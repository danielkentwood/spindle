{
 "cells": [
  {
   "cell_type": "code",
   "execution_count": 27,
   "id": "b5395d01",
   "metadata": {},
   "outputs": [],
   "source": [
    "    text2 = \"\"\"\n",
    "    In recent months, Alice Johnson has been expanding her technical expertise \n",
    "    beyond her core competencies. She recently started incorporating TypeScript \n",
    "    into her development workflow, recognizing the value of static typing for \n",
    "    large-scale applications. Alice has been particularly impressed with how \n",
    "    TypeScript enhances code maintainability and reduces runtime errors in \n",
    "    TechCorp's growing codebase. She's now advocating for TypeScript adoption \n",
    "    across the entire engineering organization and has been conducting internal \n",
    "    workshops to help other developers make the transition.\n",
    "    \n",
    "    Meanwhile, TechCorp has been experiencing remarkable growth and recently \n",
    "    announced plans to expand its operations beyond the West Coast. The company \n",
    "    revealed that it will be opening a new office in New York City, specifically \n",
    "    in Manhattan's Flatiron District. This new location will serve as TechCorp's \n",
    "    East Coast headquarters and is expected to house sales, business development, \n",
    "    and a growing engineering team. The New York office is scheduled to open in \n",
    "    the next quarter and will initially accommodate 50 employees, with plans to \n",
    "    scale to over 150 within the first year.\n",
    "    \n",
    "    Bob Smith, who founded TechCorp nearly a decade ago, continues to lead the \n",
    "    company as its Chief Executive Officer. Under his leadership, TechCorp has \n",
    "    grown from a small startup to a company with over 250 employees and a \n",
    "    valuation exceeding $500 million. Bob remains hands-on in the company's \n",
    "    day-to-day operations and is known for his open-door policy and regular \n",
    "    engagement with employees at all levels. He's been particularly focused on \n",
    "    maintaining TechCorp's startup culture even as the company scales, emphasizing \n",
    "    innovation, collaboration, and technical excellence.\n",
    "    \n",
    "    The expansion to New York represents a significant milestone for TechCorp \n",
    "    and reflects the company's ambitions to compete more effectively on the East \n",
    "    Coast market. Bob has stated that the New York office will enable TechCorp \n",
    "    to be closer to major financial services clients and to tap into New York's \n",
    "    diverse talent pool. Alice has been asked to help set up the engineering \n",
    "    practices for the New York team and will be traveling between San Francisco \n",
    "    and New York regularly during the initial setup phase.\n",
    "    \"\"\""
   ]
  },
  {
   "cell_type": "code",
   "execution_count": 28,
   "id": "a66c8836",
   "metadata": {},
   "outputs": [],
   "source": [
    "import re"
   ]
  },
  {
   "cell_type": "code",
   "execution_count": null,
   "id": "c440de6e",
   "metadata": {},
   "outputs": [
    {
     "name": "stdout",
     "output_type": "stream",
     "text": [
      "False\n"
     ]
    }
   ],
   "source": [
    "# Use the CORRECT indices from _find_span_indices function\n",
    "# (The function returns (107, 183), not (115, 195))\n",
    "extracted = text2[107:183]\n",
    "\n",
    "# Normalize both for comparison\n",
    "norm_extracted = re.sub(r'\\s+', ' ', extracted.strip())\n",
    "norm_expected = re.sub(r'\\s+', ' ', \"She recently started incorporating TypeScript into her development workflow\".strip())\n",
    "\n",
    "print(norm_extracted == norm_expected)  # Should be True ✓"
   ]
  },
  {
   "cell_type": "code",
   "execution_count": 30,
   "id": "835466ca",
   "metadata": {},
   "outputs": [
    {
     "name": "stdout",
     "output_type": "stream",
     "text": [
      "norm_extracted:\n",
      "'ntly started incorporating TypeScript into her development workflow, recognizin'\n",
      "Length: 79\n",
      "\n",
      "norm_expected:\n",
      "'She recently started incorporating TypeScript into her development workflow'\n",
      "Length: 75\n",
      "\n",
      "Equal? False\n",
      "\n",
      "First difference at position 0:\n",
      "  norm_extracted: 'ntly started incorpo'\n",
      "  norm_expected:  'She recently started'\n"
     ]
    }
   ],
   "source": [
    "# Debug: Let's see what we actually have\n",
    "print(\"norm_extracted:\")\n",
    "print(repr(norm_extracted))\n",
    "print(f\"Length: {len(norm_extracted)}\")\n",
    "print()\n",
    "\n",
    "print(\"norm_expected:\")\n",
    "print(repr(norm_expected))\n",
    "print(f\"Length: {len(norm_expected)}\")\n",
    "print()\n",
    "\n",
    "# Check if they're equal\n",
    "print(\"Equal?\", norm_extracted == norm_expected)\n",
    "\n",
    "# If not equal, find first difference\n",
    "if norm_extracted != norm_expected:\n",
    "    min_len = min(len(norm_extracted), len(norm_expected))\n",
    "    for i in range(min_len):\n",
    "        if i >= len(norm_extracted) or i >= len(norm_expected) or norm_extracted[i] != norm_expected[i]:\n",
    "            print(f\"\\nFirst difference at position {i}:\")\n",
    "            print(f\"  norm_extracted: {repr(norm_extracted[max(0,i-20):i+20])}\")\n",
    "            print(f\"  norm_expected:  {repr(norm_expected[max(0,i-20):i+20])}\")\n",
    "            break"
   ]
  },
  {
   "cell_type": "code",
   "execution_count": 31,
   "id": "8ed735f6",
   "metadata": {},
   "outputs": [
    {
     "name": "stdout",
     "output_type": "stream",
     "text": [
      "Exact match position: -1\n",
      "Beginning 'She recently started' found at: 107\n",
      "Text at that position: 'She recently started incorporating TypeScript \\ninto her development workflow, recognizing the value '\n",
      "\n",
      "_find_span_indices returned: (107, 183)\n",
      "Actual text at [107:183]:\n",
      "'She recently started incorporating TypeScript \\ninto her development workflow'\n",
      "\n",
      "Normalized match: True\n"
     ]
    }
   ],
   "source": [
    "# Let's find where the span actually appears\n",
    "target = \"She recently started incorporating TypeScript into her development workflow\"\n",
    "\n",
    "# Try to find it with exact match\n",
    "exact_pos = text2.find(target)\n",
    "print(f\"Exact match position: {exact_pos}\")\n",
    "\n",
    "if exact_pos == -1:\n",
    "    # Try finding just the beginning\n",
    "    beginning = \"She recently started\"\n",
    "    begin_pos = text2.find(beginning)\n",
    "    print(f\"Beginning '{beginning}' found at: {begin_pos}\")\n",
    "    \n",
    "    if begin_pos != -1:\n",
    "        print(f\"Text at that position: {repr(text2[begin_pos:begin_pos+100])}\")\n",
    "        \n",
    "# Also try using our function\n",
    "from spindle import _find_span_indices\n",
    "result = _find_span_indices(text2, target)\n",
    "print(f\"\\n_find_span_indices returned: {result}\")\n",
    "\n",
    "if result:\n",
    "    start, end = result\n",
    "    actual = text2[start:end]\n",
    "    print(f\"Actual text at [{start}:{end}]:\")\n",
    "    print(repr(actual))\n",
    "    \n",
    "    # Normalize and compare\n",
    "    norm_actual = re.sub(r'\\s+', ' ', actual.strip())\n",
    "    norm_target = re.sub(r'\\s+', ' ', target.strip())\n",
    "    print(f\"\\nNormalized match: {norm_actual == norm_target}\")\n"
   ]
  },
  {
   "cell_type": "code",
   "execution_count": null,
   "id": "30693644",
   "metadata": {},
   "outputs": [],
   "source": []
  },
  {
   "cell_type": "code",
   "execution_count": null,
   "id": "30402878",
   "metadata": {},
   "outputs": [],
   "source": []
  }
 ],
 "metadata": {
  "kernelspec": {
   "display_name": "kgx",
   "language": "python",
   "name": "kgx"
  },
  "language_info": {
   "codemirror_mode": {
    "name": "ipython",
    "version": 3
   },
   "file_extension": ".py",
   "mimetype": "text/x-python",
   "name": "python",
   "nbconvert_exporter": "python",
   "pygments_lexer": "ipython3",
   "version": "3.11.13"
  }
 },
 "nbformat": 4,
 "nbformat_minor": 5
}
